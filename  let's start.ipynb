{
 "cells": [
  {
   "cell_type": "code",
   "execution_count": 32,
   "id": "935b7489",
   "metadata": {},
   "outputs": [],
   "source": [
    "from selenium import webdriver\n",
    "from selenium.webdriver.chrome.service import Service\n",
    "from webdriver_manager.chrome import ChromeDriverManager\n",
    "from selenium.webdriver.common.by import By\n",
    "\n",
    "servico = Service(ChromeDriverManager().install())\n",
    "\n",
    "options = webdriver.ChromeOptions()\n",
    "options.add_argument(r'user-data-dir=C:\\Users\\Gabriel\\AppData\\Local\\Google\\Chrome\\User Data\\Profile Selenium')\n",
    "navegador = webdriver.Chrome(service=servico, options=options)"
   ]
  },
  {
   "cell_type": "code",
   "execution_count": 33,
   "id": "274d9938",
   "metadata": {},
   "outputs": [],
   "source": [
    "link = \"https://www.instagram.com/unisaojose/?hl=pt\"\n",
    "navegador.get(link)"
   ]
  },
  {
   "cell_type": "code",
   "execution_count": 50,
   "id": "8117c8ed",
   "metadata": {},
   "outputs": [
    {
     "name": "stdout",
     "output_type": "stream",
     "text": [
      "12\n"
     ]
    }
   ],
   "source": [
    "lista_posts = navegador.find_elements(By.CLASS_NAME, \"_aabd\")\n",
    "print(len(lista_posts))\n"
   ]
  },
  {
   "cell_type": "code",
   "execution_count": 52,
   "id": "a05efb82",
   "metadata": {},
   "outputs": [
    {
     "name": "stdout",
     "output_type": "stream",
     "text": [
      "https://www.instagram.com/p/CzMgkSypOB-/?hl=pt\n",
      "https://www.instagram.com/p/CzMggUCpD0-/?hl=pt\n",
      "https://www.instagram.com/p/CzMgaPepGHU/?hl=pt\n",
      "https://www.instagram.com/reel/C0kCBQgJWFA/?hl=pt\n",
      "https://www.instagram.com/p/C0jx7ByucKW/?hl=pt\n",
      "https://www.instagram.com/reel/C0jvSliuIRF/?hl=pt\n",
      "https://www.instagram.com/reel/C0jotF8OE3o/?hl=pt\n",
      "https://www.instagram.com/p/C0jiuLLOKZl/?hl=pt\n",
      "https://www.instagram.com/p/C0jKnrquQW9/?hl=pt\n",
      "https://www.instagram.com/reel/C0ho6W4vo75/?hl=pt\n",
      "https://www.instagram.com/p/C0hRshrOi4f/?hl=pt\n",
      "https://www.instagram.com/p/C0gyl6WOeoX/?hl=pt\n"
     ]
    }
   ],
   "source": [
    "for elemento in lista_posts:\n",
    "    link = elemento.find_element(By.TAG_NAME, 'a').get_attribute('href')\n",
    "    print(link)\n",
    "    "
   ]
  },
  {
   "cell_type": "code",
   "execution_count": 45,
   "id": "b39bdefc",
   "metadata": {},
   "outputs": [
    {
     "name": "stdout",
     "output_type": "stream",
     "text": [
      "8\n"
     ]
    }
   ],
   "source": [
    "video_ou_afixada = navegador.find_elements(By.CLASS_NAME, \"x9bdzbf\")\n",
    "print(len(video_ou_afixada))"
   ]
  },
  {
   "cell_type": "code",
   "execution_count": 46,
   "id": "f91c26f5",
   "metadata": {
    "scrolled": true
   },
   "outputs": [
    {
     "name": "stdout",
     "output_type": "stream",
     "text": [
      "Ícone de publicação afixada\n",
      "Ícone de publicação afixada\n",
      "Ícone de publicação afixada\n",
      "Clipe\n",
      "Clipe\n",
      "Clipe\n",
      "Clipe\n",
      "Carrossel\n"
     ]
    }
   ],
   "source": [
    "for item in video_ou_afixada:\n",
    "    texto = item.get_attribute('aria-label')\n",
    "    print(texto) "
   ]
  },
  {
   "cell_type": "code",
   "execution_count": null,
   "id": "99bb7985",
   "metadata": {},
   "outputs": [],
   "source": []
  }
 ],
 "metadata": {
  "kernelspec": {
   "display_name": "Python 3 (ipykernel)",
   "language": "python",
   "name": "python3"
  },
  "language_info": {
   "codemirror_mode": {
    "name": "ipython",
    "version": 3
   },
   "file_extension": ".py",
   "mimetype": "text/x-python",
   "name": "python",
   "nbconvert_exporter": "python",
   "pygments_lexer": "ipython3",
   "version": "3.9.7"
  }
 },
 "nbformat": 4,
 "nbformat_minor": 5
}
