{
 "cells": [
  {
   "cell_type": "code",
   "execution_count": 62,
   "id": "e40bffe2",
   "metadata": {},
   "outputs": [],
   "source": [
    "#import pandas\n",
    "import pandas as pd"
   ]
  },
  {
   "cell_type": "code",
   "execution_count": 75,
   "id": "935b7489",
   "metadata": {},
   "outputs": [],
   "source": [
    "#Selenium imports\n",
    "from selenium import webdriver\n",
    "from selenium.webdriver.chrome.service import Service\n",
    "from selenium.webdriver.support.wait import WebDriverWait\n",
    "from selenium.webdriver.support import expected_conditions as EC\n",
    "from selenium.webdriver.common.by import By\n",
    "\n",
    "#Other imports\n",
    "import os \n",
    "import wget\n",
    "import re"
   ]
  },
  {
   "cell_type": "code",
   "execution_count": 2,
   "id": "50e09000",
   "metadata": {},
   "outputs": [],
   "source": [
    "# A classe Service é usada para iniciar uma instancia do chrome webdriver\n",
    "service = Service()\n",
    "\n",
    "# Webdriver.ChromeOptions é usado para definir a preferencia para o browser chrome\n",
    "options = webdriver.ChromeOptions()\n",
    "\n",
    "# Inicia-se a instancia do Chrome WebDriver com as 'options' e 'service'\n",
    "driver = webdriver.Chrome(service=service, options=options)"
   ]
  },
  {
   "cell_type": "code",
   "execution_count": 3,
   "id": "274d9938",
   "metadata": {},
   "outputs": [],
   "source": [
    "link = \"https://www.instagram.com/\"\n",
    "driver.get(link)"
   ]
  },
  {
   "cell_type": "code",
   "execution_count": 6,
   "id": "38048f3d",
   "metadata": {},
   "outputs": [],
   "source": [
    "username = WebDriverWait(driver, 10).until(EC.element_to_be_clickable((By.CSS_SELECTOR, \"input[name='username']\")))\n",
    "password = WebDriverWait(driver, 10).until(EC.element_to_be_clickable((By.CSS_SELECTOR, \"input[name='password']\")))\n",
    "\n",
    "username.clear()\n",
    "password.clear()\n",
    "username.send_keys('valim.g')\n",
    "password.send_keys('V@liminsta2001')"
   ]
  },
  {
   "cell_type": "code",
   "execution_count": 7,
   "id": "c57b4972",
   "metadata": {},
   "outputs": [],
   "source": [
    "log_in = WebDriverWait(driver, 10).until(EC.element_to_be_clickable((By.CSS_SELECTOR, \"button[type='submit']\"))).click()"
   ]
  },
  {
   "cell_type": "code",
   "execution_count": 8,
   "id": "3d2c0a7b",
   "metadata": {},
   "outputs": [],
   "source": [
    "agora_Nao = WebDriverWait(driver, 10).until(EC.element_to_be_clickable((By.XPATH, \"//div[contains(text(), 'Agora não')]\"))).click()\n",
    "agora_Nao2 = WebDriverWait(driver, 10).until(EC.element_to_be_clickable((By.XPATH, \"//button[contains(text(), 'Agora não')]\"))).click()"
   ]
  },
  {
   "cell_type": "code",
   "execution_count": 9,
   "id": "29602e1b-409a-4c2c-a1fd-0fda611f436c",
   "metadata": {},
   "outputs": [],
   "source": [
    "profile = driver.find_elements(By.CLASS_NAME, 'xpdipgo')\n",
    "profile[0].click()\n",
    "    "
   ]
  },
  {
   "cell_type": "code",
   "execution_count": 148,
   "id": "070e4748",
   "metadata": {},
   "outputs": [],
   "source": [
    "# profile = driver.find_elements(By.CLASS_NAME, 'xh8yej3')\n",
    "# profile[5].click()"
   ]
  },
  {
   "cell_type": "code",
   "execution_count": 10,
   "id": "034218fc-332c-4ada-8caa-15bebbc2c991",
   "metadata": {},
   "outputs": [],
   "source": [
    "container_feed = driver.find_elements(By.CLASS_NAME, \"_aagu\")\n",
    "for elemento in container_feed:\n",
    "    elemento.click()\n",
    "    break"
   ]
  },
  {
   "cell_type": "code",
   "execution_count": 11,
   "id": "015e1ebf-06b6-4b53-a15b-be628de8f1af",
   "metadata": {},
   "outputs": [
    {
     "name": "stdout",
     "output_type": "stream",
     "text": [
      "3 de agosto de 2022\n"
     ]
    }
   ],
   "source": [
    "tempo = driver.find_element(By.TAG_NAME, \"time\").get_attribute('title')\n",
    "print(tempo)"
   ]
  },
  {
   "cell_type": "code",
   "execution_count": 12,
   "id": "321809f8-b2e5-48e2-a98f-73ba228cf0b2",
   "metadata": {},
   "outputs": [
    {
     "name": "stdout",
     "output_type": "stream",
     "text": [
      "1\n",
      "66\n",
      "130\n",
      "14\n",
      "14\n"
     ]
    }
   ],
   "source": [
    "like = driver.find_elements(By.CLASS_NAME, \"html-span\")\n",
    "for element in like: \n",
    "    print(element.text)"
   ]
  },
  {
   "cell_type": "code",
   "execution_count": 13,
   "id": "50d28e16-8d46-42c9-a932-ba05c3f42158",
   "metadata": {},
   "outputs": [
    {
     "name": "stdout",
     "output_type": "stream",
     "text": [
      "1\n"
     ]
    }
   ],
   "source": [
    "comments = driver.find_elements(By.CLASS_NAME, \"x1y0lptx\")\n",
    "for elemento in comments:\n",
    "    divs = elemento.find_elements(By.TAG_NAME, \"span\")\n",
    "    for div in divs:\n",
    "        if(div.text != 'Curtidas'):\n",
    "            size = div.text\n",
    "print(size)"
   ]
  },
  {
   "cell_type": "code",
   "execution_count": 89,
   "id": "89d9813b-abb5-4e49-96f8-722d72960e59",
   "metadata": {},
   "outputs": [
    {
     "name": "stdout",
     "output_type": "stream",
     "text": [
      "#caixaparacha #artesanato #feitoamao #mdfdecorado #cha\n"
     ]
    }
   ],
   "source": [
    "tag = driver.find_elements(By.CLASS_NAME, \"_aacu\")[3]\n",
    "texto_completo = tag.text\n",
    "\n",
    "hashtags = re.findall(r'#\\w+', texto_completo)\n",
    "hashtags_como_string = ' '.join(hashtags)\n",
    "print(hashtags_como_string)\n"
   ]
  },
  {
   "cell_type": "code",
   "execution_count": 94,
   "id": "8d1a2e94-7709-4101-bc16-b73db318ebca",
   "metadata": {},
   "outputs": [
    {
     "name": "stdout",
     "output_type": "stream",
     "text": [
      "[]\n"
     ]
    }
   ],
   "source": [
    "carrousel = driver.find_elements(By.CLASS_NAME, \"_9zm2\")\n",
    "print(carrousel)"
   ]
  },
  {
   "cell_type": "code",
   "execution_count": 34,
   "id": "fc2c06ff",
   "metadata": {},
   "outputs": [
    {
     "data": {
      "text/plain": [
       "['https://scontent.cdninstagram.com/v/t51.29350-15/391186635_1382018019387664_4053745814601336623_n.jpg?stp=dst-jpg_e35&efg=eyJ2ZW5jb2RlX3RhZyI6ImltYWdlX3VybGdlbi4xNDQweDE4MDAuc2RyIn0&_nc_ht=scontent.cdninstagram.com&_nc_cat=104&_nc_ohc=Rc7L5A8UXF4AX_9fYw0&edm=APs17CUBAAAA&ccb=7-5&ig_cache_key=MzIxMzAwNTE5NTYyNDU3ODY4MQ%3D%3D.2-ccb7-5&oh=00_AfBuVkFVV8a0YKKVpJ9vY1dneJ6ivlXQWQr03yRKN6slLQ&oe=65F7C179&_nc_sid=10d13b',\n",
       " 'https://scontent.cdninstagram.com/v/t51.29350-15/343919500_1268490680771122_7307470101901809399_n.jpg?stp=dst-jpg_e35&efg=eyJ2ZW5jb2RlX3RhZyI6ImltYWdlX3VybGdlbi4xNDQweDE4MDAuc2RyIn0&_nc_ht=scontent.cdninstagram.com&_nc_cat=110&_nc_ohc=S3vmsikOjmsAX82vIRZ&edm=APs17CUBAAAA&ccb=7-5&ig_cache_key=MzA5Mjc0NzM4MDMzMTM5ODY2NQ%3D%3D.2-ccb7-5&oh=00_AfDZESxkukqNpjUtkNLDPwq6c9F7L7Hg3BQcTQfu2Ifb7w&oe=65F85BC5&_nc_sid=10d13b',\n",
       " 'https://scontent.cdninstagram.com/v/t51.29350-15/343733563_1415736052573167_8355439424670859062_n.jpg?stp=dst-jpg_e35&efg=eyJ2ZW5jb2RlX3RhZyI6ImltYWdlX3VybGdlbi4xNDQweDE4MDAuc2RyIn0&_nc_ht=scontent.cdninstagram.com&_nc_cat=103&_nc_ohc=k1cRiWqqmokAX87WODo&edm=APs17CUBAAAA&ccb=7-5&ig_cache_key=MzA5MTk2MjczMTA1MzQyNjIzNQ%3D%3D.2-ccb7-5&oh=00_AfBHMJ1CPbC7VTW_8LCjQQMgVXpoGaPB-T1C9kTj2O1UVQ&oe=65F7B1B6&_nc_sid=10d13b',\n",
       " 'https://scontent.cdninstagram.com/v/t51.29350-15/321536626_1322134135256035_1373091219561537938_n.jpg?stp=dst-jpg_e35&efg=eyJ2ZW5jb2RlX3RhZyI6ImltYWdlX3VybGdlbi4xMjgweDEyODAuc2RyIn0&_nc_ht=scontent.cdninstagram.com&_nc_cat=107&_nc_ohc=ART2UKO1-ZMAX8SoqNa&edm=APs17CUBAAAA&ccb=7-5&ig_cache_key=MzAwMTE1OTk0Mjg5MjM0MDM3Nw%3D%3D.2-ccb7-5&oh=00_AfCFM7Bx_uAcng9LDOZvHtWMnl5IFs-1QEPh4UMyNCcxMg&oe=65F81ECC&_nc_sid=10d13b',\n",
       " 'https://scontent.cdninstagram.com/v/t51.29350-15/320567276_199232249323917_8422832711697937991_n.jpg?stp=dst-jpg_e35&efg=eyJ2ZW5jb2RlX3RhZyI6ImltYWdlX3VybGdlbi4xMjgweDEyODAuc2RyIn0&_nc_ht=scontent.cdninstagram.com&_nc_cat=109&_nc_ohc=pt676CVEF_wAX-8TT-J&edm=APs17CUBAAAA&ccb=7-5&ig_cache_key=Mjk5NjIyNDEyMTU4ODI5MDg0OA%3D%3D.2-ccb7-5&oh=00_AfDJuOTmVEQmHRrDr7sHRp34WD3zoe7hjAJL8vI2KnxYIg&oe=65F862ED&_nc_sid=10d13b',\n",
       " 'https://scontent.cdninstagram.com/v/t51.29350-15/291240838_752872852808011_7364333408651375981_n.jpg?stp=dst-jpg_e35&efg=eyJ2ZW5jb2RlX3RhZyI6ImltYWdlX3VybGdlbi4xMjgweDEyODAuc2RyIn0&_nc_ht=scontent.cdninstagram.com&_nc_cat=107&_nc_ohc=KyEguiluADQAX-Wc-Oo&edm=APs17CUBAAAA&ccb=7-5&ig_cache_key=Mjg3MzYwNjY2MzY1MjIwNzY1OA%3D%3D.2-ccb7-5&oh=00_AfCce-qskbrMX_pQ5lgCsuJA1huwWfgovWhe599zAxyFxA&oe=65F91C60&_nc_sid=10d13b',\n",
       " 'https://scontent.cdninstagram.com/v/t51.29350-15/290010524_763398214800310_4341956149748002661_n.jpg?stp=dst-jpg_e35&efg=eyJ2ZW5jb2RlX3RhZyI6ImltYWdlX3VybGdlbi4xNDQweDE4MDAuc2RyIn0&_nc_ht=scontent.cdninstagram.com&_nc_cat=110&_nc_ohc=CGM5cQzU2XgAX_um0g3&edm=APs17CUBAAAA&ccb=7-5&ig_cache_key=Mjg2OTMzMDkwNzgyMTIzMzE3Mw%3D%3D.2-ccb7-5&oh=00_AfBPX7_QEAHHYoCHI-Mj3YBG762OjURaK-TOOKTipuu5zw&oe=65F82092&_nc_sid=10d13b',\n",
       " 'https://scontent.cdninstagram.com/v/t51.29350-15/287926698_595104161833122_1717323388624972562_n.jpg?stp=dst-jpg_e35&efg=eyJ2ZW5jb2RlX3RhZyI6ImltYWdlX3VybGdlbi4xNDQweDE0NDAuc2RyIn0&_nc_ht=scontent.cdninstagram.com&_nc_cat=106&_nc_ohc=wS4luAfODDgAX9ys5JG&edm=APs17CUBAAAA&ccb=7-5&ig_cache_key=Mjg2MDUyODU5MzUwNDM5MjI3OQ%3D%3D.2-ccb7-5&oh=00_AfAVHWMck5e0f_rfz8GY3ne9l5ipkpYHCslLqx-r7o9ZXQ&oe=65F817F7&_nc_sid=10d13b',\n",
       " 'https://scontent.cdninstagram.com/v/t51.29350-15/274951132_125999883325188_3037064021196611215_n.jpg?stp=dst-jpg_e35&efg=eyJ2ZW5jb2RlX3RhZyI6ImltYWdlX3VybGdlbi45NjB4OTYwLnNkciJ9&_nc_ht=scontent.cdninstagram.com&_nc_cat=100&_nc_ohc=I8xgd2Eg1FQAX_W-Amh&edm=APs17CUBAAAA&ccb=7-5&ig_cache_key=Mjc4NTA1NjkxNzEzNjcwOTk0Mg%3D%3D.2-ccb7-5&oh=00_AfAveOhKW3wj-ZbU9Rj7wO5ijr-7vQGkolIrujd5fbbVCQ&oe=65F659D6&_nc_sid=10d13b',\n",
       " 'https://scontent.cdninstagram.com/v/t51.29350-15/272208693_1096054147898601_2779907929543086229_n.jpg?stp=dst-jpg_e35&efg=eyJ2ZW5jb2RlX3RhZyI6ImltYWdlX3VybGdlbi4xNDQweDE4MDAuc2RyIn0&_nc_ht=scontent.cdninstagram.com&_nc_cat=109&_nc_ohc=PBJCmhXfmJYAX8CX-QE&edm=APs17CUBAAAA&ccb=7-5&ig_cache_key=Mjc1NTcxMDUxNjEyMDU1NjE2Nw%3D%3D.2-ccb7-5&oh=00_AfCyyq61IR_CW7ejMf6bMbl_sbn94RNfIaGpKEBQlFfVmA&oe=65F7D2D9&_nc_sid=10d13b',\n",
       " 'https://scontent.cdninstagram.com/v/t51.29350-15/210827020_120595046912474_3135368505526228281_n.jpg?stp=dst-jpg_e35&efg=eyJ2ZW5jb2RlX3RhZyI6ImltYWdlX3VybGdlbi4xNDQweDE4MDAuc2RyIn0&_nc_ht=scontent.cdninstagram.com&_nc_cat=102&_nc_ohc=VqsYveC6vYgAX-sdl_2&edm=APs17CUBAAAA&ccb=7-5&ig_cache_key=MjYxMDcwNTM2NzU3Nzg1NzgxNA%3D%3D.2-ccb7-5&oh=00_AfDhPhgUzAAhnUTEmqNbHqYCvcAKGkpgwsve-j618peuEQ&oe=65F8589E&_nc_sid=10d13b']"
      ]
     },
     "execution_count": 34,
     "metadata": {},
     "output_type": "execute_result"
    }
   ],
   "source": [
    "driver.execute_script(\"window.scrollTo(0,4000);\")\n",
    "\n",
    "images = driver.find_elements(By.CLASS_NAME, \"xu96u03\")\n",
    "images = [image.get_attribute('src') for image in images]\n",
    "images"
   ]
  },
  {
   "cell_type": "markdown",
   "id": "b859f67d",
   "metadata": {},
   "source": [
    "## Salvando as imagens no computador"
   ]
  },
  {
   "cell_type": "code",
   "execution_count": 10,
   "id": "602b65f5",
   "metadata": {},
   "outputs": [
    {
     "data": {
      "text/plain": [
       "'C:\\\\Users\\\\Gabriel\\\\Downloads\\\\Crawler\\\\valim.g'"
      ]
     },
     "execution_count": 10,
     "metadata": {},
     "output_type": "execute_result"
    }
   ],
   "source": [
    "keyword = \"@valim.g\"\n",
    "path = os.getcwd()\n",
    "path = os.path.join(path, keyword[1:])\n",
    "\n",
    "os.mkdir(path)\n",
    "path"
   ]
  },
  {
   "cell_type": "code",
   "execution_count": 11,
   "id": "fb3e784f",
   "metadata": {},
   "outputs": [
    {
     "name": "stdout",
     "output_type": "stream",
     "text": [
      "\r",
      "  0% [                                                                              ]     0 / 99935\r",
      "  8% [......                                                                        ]  8192 / 99935\r",
      " 16% [............                                                                  ] 16384 / 99935\r",
      " 24% [...................                                                           ] 24576 / 99935\r",
      " 32% [.........................                                                     ] 32768 / 99935\r",
      " 40% [...............................                                               ] 40960 / 99935\r",
      " 49% [......................................                                        ] 49152 / 99935\r",
      " 57% [............................................                                  ] 57344 / 99935\r",
      " 65% [...................................................                           ] 65536 / 99935\r",
      " 73% [.........................................................                     ] 73728 / 99935\r",
      " 81% [...............................................................               ] 81920 / 99935\r",
      " 90% [......................................................................        ] 90112 / 99935\r",
      " 98% [............................................................................  ] 98304 / 99935\r",
      "100% [..............................................................................] 99935 / 99935"
     ]
    }
   ],
   "source": [
    "counter = 0\n",
    "for image in images:\n",
    "    save_as = os.path.join(path, keyword[1:] + str(counter) + '.jpg')\n",
    "    wget.download(image, save_as)\n",
    "    counter += 1"
   ]
  },
  {
   "cell_type": "code",
   "execution_count": 67,
   "id": "8117c8ed",
   "metadata": {},
   "outputs": [
    {
     "name": "stdout",
     "output_type": "stream",
     "text": [
      "0\n"
     ]
    }
   ],
   "source": [
    "lista_posts = driver.find_elements(By.CLASS_NAME, \"_aabd\")\n",
    "print(len(lista_posts))\n"
   ]
  },
  {
   "cell_type": "code",
   "execution_count": 25,
   "id": "a05efb82",
   "metadata": {},
   "outputs": [
    {
     "name": "stdout",
     "output_type": "stream",
     "text": [
      "https://www.instagram.com/unisaojose/p/CzMgkSypOB-/?hl=pt\n",
      "https://www.instagram.com/unisaojose/p/CzMggUCpD0-/?hl=pt\n",
      "https://www.instagram.com/unisaojose/p/CzMgaPepGHU/?hl=pt\n",
      "https://www.instagram.com/unisaojose/p/C3DjkxBOYF8/?hl=pt\n",
      "https://www.instagram.com/unisaojose/p/C3AqPwnv8p7/?hl=pt\n",
      "https://www.instagram.com/unisaojose/p/C3AH6T7JA9W/?hl=pt\n",
      "https://www.instagram.com/unisaojose/reel/C2-F5tGK0kH/?hl=pt\n",
      "https://www.instagram.com/unisaojose/p/C27S2dwsr8m/?hl=pt\n",
      "https://www.instagram.com/unisaojose/p/C25QVJcOnqZ/?hl=pt\n",
      "https://www.instagram.com/unisaojose/p/C22uX-srBOn/?hl=pt\n",
      "https://www.instagram.com/unisaojose/reel/C20c3h0PZtM/?hl=pt\n",
      "https://www.instagram.com/unisaojose/p/C20GzustieD/?hl=pt\n"
     ]
    }
   ],
   "source": [
    "for elemento in lista_posts:\n",
    "    link = elemento.find_element(By.TAG_NAME, 'a').get_attribute('href')\n",
    "    print(link)\n",
    "    "
   ]
  },
  {
   "cell_type": "code",
   "execution_count": 27,
   "id": "b39bdefc",
   "metadata": {},
   "outputs": [
    {
     "name": "stdout",
     "output_type": "stream",
     "text": [
      "8\n"
     ]
    }
   ],
   "source": [
    "video_ou_afixada = driver.find_elements(By.CLASS_NAME, \"x9bdzbf\")\n",
    "print(len(video_ou_afixada))"
   ]
  },
  {
   "cell_type": "code",
   "execution_count": 28,
   "id": "f91c26f5",
   "metadata": {},
   "outputs": [
    {
     "name": "stdout",
     "output_type": "stream",
     "text": [
      "Carrossel\n",
      "Clipe\n",
      "Carrossel\n",
      "Carrossel\n",
      "Clipe\n",
      "Carrossel\n",
      "None\n",
      "None\n"
     ]
    }
   ],
   "source": [
    "for item in video_ou_afixada:\n",
    "    texto = item.get_attribute('aria-label')\n",
    "    print(texto) "
   ]
  },
  {
   "cell_type": "code",
   "execution_count": null,
   "id": "99bb7985",
   "metadata": {},
   "outputs": [],
   "source": []
  }
 ],
 "metadata": {
  "kernelspec": {
   "display_name": "Python 3 (ipykernel)",
   "language": "python",
   "name": "python3"
  },
  "language_info": {
   "codemirror_mode": {
    "name": "ipython",
    "version": 3
   },
   "file_extension": ".py",
   "mimetype": "text/x-python",
   "name": "python",
   "nbconvert_exporter": "python",
   "pygments_lexer": "ipython3",
   "version": "3.11.7"
  }
 },
 "nbformat": 4,
 "nbformat_minor": 5
}
