{
 "cells": [
  {
   "cell_type": "code",
   "execution_count": 2,
   "id": "e40bffe2",
   "metadata": {},
   "outputs": [],
   "source": [
    "#import pandas\n",
    "import pandas as pd"
   ]
  },
  {
   "cell_type": "code",
   "execution_count": 1,
   "id": "935b7489",
   "metadata": {},
   "outputs": [],
   "source": [
    "#Selenium imports\n",
    "from selenium import webdriver\n",
    "from selenium.webdriver.chrome.service import Service\n",
    "from selenium.webdriver.support.wait import WebDriverWait\n",
    "from selenium.webdriver.support import expected_conditions as EC\n",
    "from selenium.webdriver.common.by import By\n",
    "\n",
    "#Other imports\n",
    "import os \n",
    "import wget"
   ]
  },
  {
   "cell_type": "code",
   "execution_count": 3,
   "id": "50e09000",
   "metadata": {},
   "outputs": [],
   "source": [
    "# A classe Service é usada para iniciar uma instancia do chrome webdriver\n",
    "service = Service()\n",
    "\n",
    "# Webdriver.ChromeOptions é usado para definir a preferencia para o browser chrome\n",
    "options = webdriver.ChromeOptions()\n",
    "\n",
    "# Inicia-se a instancia do Chrome WebDriver com as 'options' e 'service'\n",
    "driver = webdriver.Chrome(service=service, options=options)"
   ]
  },
  {
   "cell_type": "code",
   "execution_count": 4,
   "id": "274d9938",
   "metadata": {},
   "outputs": [],
   "source": [
    "link = \"https://www.instagram.com/\"\n",
    "driver.get(link)"
   ]
  },
  {
   "cell_type": "code",
   "execution_count": 5,
   "id": "38048f3d",
   "metadata": {},
   "outputs": [],
   "source": [
    "username = WebDriverWait(driver, 10).until(EC.element_to_be_clickable((By.CSS_SELECTOR, \"input[name='username']\")))\n",
    "password = WebDriverWait(driver, 10).until(EC.element_to_be_clickable((By.CSS_SELECTOR, \"input[name='password']\")))\n",
    "\n",
    "username.clear()\n",
    "password.clear()\n",
    "username.send_keys('valim.g')\n",
    "password.send_keys('V@liminsta2001')"
   ]
  },
  {
   "cell_type": "code",
   "execution_count": 6,
   "id": "c57b4972",
   "metadata": {},
   "outputs": [],
   "source": [
    "log_in = WebDriverWait(driver, 10).until(EC.element_to_be_clickable((By.CSS_SELECTOR, \"button[type='submit']\"))).click()"
   ]
  },
  {
   "cell_type": "code",
   "execution_count": 7,
   "id": "3d2c0a7b",
   "metadata": {},
   "outputs": [],
   "source": [
    "agora_Nao = WebDriverWait(driver, 10).until(EC.element_to_be_clickable((By.XPATH, \"//div[contains(text(), 'Agora não')]\"))).click()\n",
    "agora_Nao2 = WebDriverWait(driver, 10).until(EC.element_to_be_clickable((By.XPATH, \"//button[contains(text(), 'Agora não')]\"))).click()"
   ]
  },
  {
   "cell_type": "code",
   "execution_count": 8,
   "id": "070e4748",
   "metadata": {},
   "outputs": [],
   "source": [
    "profile = WebDriverWait(driver, 10).until(EC.element_to_be_clickable((By.XPATH, \"//span[contains(text(), 'Perfil')]\"))).click()"
   ]
  },
  {
   "cell_type": "code",
   "execution_count": 9,
   "id": "fc2c06ff",
   "metadata": {
    "scrolled": false
   },
   "outputs": [
    {
     "data": {
      "text/plain": [
       "['https://scontent.cdninstagram.com/v/t51.29350-15/297236900_168784755659440_1865302418720069337_n.webp?stp=dst-jpg_e35&efg=eyJ2ZW5jb2RlX3RhZyI6ImltYWdlX3VybGdlbi4xMDgweDEzNTAuc2RyIn0&_nc_ht=scontent.cdninstagram.com&_nc_cat=104&_nc_ohc=lFmV2LkJbdIAX-jugnC&edm=APs17CUBAAAA&ccb=7-5&ig_cache_key=Mjg5NjY1MTQ4MTA1MjA5NTYwOQ%3D%3D.2-ccb7-5&oh=00_AfC7LzXqn0QjKCK4wrkG6HDb9VQ39oyfcWbN5IrcrS34_A&oe=65EEB38C&_nc_sid=10d13b']"
      ]
     },
     "execution_count": 9,
     "metadata": {},
     "output_type": "execute_result"
    }
   ],
   "source": [
    "driver.execute_script(\"window.scrollTo(0,4000);\")\n",
    "\n",
    "images = driver.find_elements(By.CLASS_NAME, \"xu96u03\")\n",
    "images = [image.get_attribute('src') for image in images]\n",
    "images"
   ]
  },
  {
   "cell_type": "markdown",
   "id": "b859f67d",
   "metadata": {},
   "source": [
    "## Salvando as imagens no computador"
   ]
  },
  {
   "cell_type": "code",
   "execution_count": 10,
   "id": "602b65f5",
   "metadata": {},
   "outputs": [
    {
     "data": {
      "text/plain": [
       "'C:\\\\Users\\\\Gabriel\\\\Downloads\\\\Crawler\\\\valim.g'"
      ]
     },
     "execution_count": 10,
     "metadata": {},
     "output_type": "execute_result"
    }
   ],
   "source": [
    "keyword = \"@valim.g\"\n",
    "path = os.getcwd()\n",
    "path = os.path.join(path, keyword[1:])\n",
    "\n",
    "os.mkdir(path)\n",
    "path"
   ]
  },
  {
   "cell_type": "code",
   "execution_count": 11,
   "id": "fb3e784f",
   "metadata": {},
   "outputs": [
    {
     "name": "stdout",
     "output_type": "stream",
     "text": [
      "\r",
      "  0% [                                                                              ]     0 / 99935\r",
      "  8% [......                                                                        ]  8192 / 99935\r",
      " 16% [............                                                                  ] 16384 / 99935\r",
      " 24% [...................                                                           ] 24576 / 99935\r",
      " 32% [.........................                                                     ] 32768 / 99935\r",
      " 40% [...............................                                               ] 40960 / 99935\r",
      " 49% [......................................                                        ] 49152 / 99935\r",
      " 57% [............................................                                  ] 57344 / 99935\r",
      " 65% [...................................................                           ] 65536 / 99935\r",
      " 73% [.........................................................                     ] 73728 / 99935\r",
      " 81% [...............................................................               ] 81920 / 99935\r",
      " 90% [......................................................................        ] 90112 / 99935\r",
      " 98% [............................................................................  ] 98304 / 99935\r",
      "100% [..............................................................................] 99935 / 99935"
     ]
    }
   ],
   "source": [
    "counter = 0\n",
    "for image in images:\n",
    "    save_as = os.path.join(path, keyword[1:] + str(counter) + '.jpg')\n",
    "    wget.download(image, save_as)\n",
    "    counter += 1"
   ]
  },
  {
   "cell_type": "code",
   "execution_count": 67,
   "id": "8117c8ed",
   "metadata": {},
   "outputs": [
    {
     "name": "stdout",
     "output_type": "stream",
     "text": [
      "0\n"
     ]
    }
   ],
   "source": [
    "lista_posts = driver.find_elements(By.CLASS_NAME, \"_aabd\")\n",
    "print(len(lista_posts))\n"
   ]
  },
  {
   "cell_type": "code",
   "execution_count": 25,
   "id": "a05efb82",
   "metadata": {},
   "outputs": [
    {
     "name": "stdout",
     "output_type": "stream",
     "text": [
      "https://www.instagram.com/unisaojose/p/CzMgkSypOB-/?hl=pt\n",
      "https://www.instagram.com/unisaojose/p/CzMggUCpD0-/?hl=pt\n",
      "https://www.instagram.com/unisaojose/p/CzMgaPepGHU/?hl=pt\n",
      "https://www.instagram.com/unisaojose/p/C3DjkxBOYF8/?hl=pt\n",
      "https://www.instagram.com/unisaojose/p/C3AqPwnv8p7/?hl=pt\n",
      "https://www.instagram.com/unisaojose/p/C3AH6T7JA9W/?hl=pt\n",
      "https://www.instagram.com/unisaojose/reel/C2-F5tGK0kH/?hl=pt\n",
      "https://www.instagram.com/unisaojose/p/C27S2dwsr8m/?hl=pt\n",
      "https://www.instagram.com/unisaojose/p/C25QVJcOnqZ/?hl=pt\n",
      "https://www.instagram.com/unisaojose/p/C22uX-srBOn/?hl=pt\n",
      "https://www.instagram.com/unisaojose/reel/C20c3h0PZtM/?hl=pt\n",
      "https://www.instagram.com/unisaojose/p/C20GzustieD/?hl=pt\n"
     ]
    }
   ],
   "source": [
    "for elemento in lista_posts:\n",
    "    link = elemento.find_element(By.TAG_NAME, 'a').get_attribute('href')\n",
    "    print(link)\n",
    "    "
   ]
  },
  {
   "cell_type": "code",
   "execution_count": 27,
   "id": "b39bdefc",
   "metadata": {},
   "outputs": [
    {
     "name": "stdout",
     "output_type": "stream",
     "text": [
      "8\n"
     ]
    }
   ],
   "source": [
    "video_ou_afixada = driver.find_elements(By.CLASS_NAME, \"x9bdzbf\")\n",
    "print(len(video_ou_afixada))"
   ]
  },
  {
   "cell_type": "code",
   "execution_count": 28,
   "id": "f91c26f5",
   "metadata": {
    "scrolled": false
   },
   "outputs": [
    {
     "name": "stdout",
     "output_type": "stream",
     "text": [
      "Carrossel\n",
      "Clipe\n",
      "Carrossel\n",
      "Carrossel\n",
      "Clipe\n",
      "Carrossel\n",
      "None\n",
      "None\n"
     ]
    }
   ],
   "source": [
    "for item in video_ou_afixada:\n",
    "    texto = item.get_attribute('aria-label')\n",
    "    print(texto) "
   ]
  },
  {
   "cell_type": "code",
   "execution_count": null,
   "id": "99bb7985",
   "metadata": {},
   "outputs": [],
   "source": []
  }
 ],
 "metadata": {
  "kernelspec": {
   "display_name": "Python 3 (ipykernel)",
   "language": "python",
   "name": "python3"
  },
  "language_info": {
   "codemirror_mode": {
    "name": "ipython",
    "version": 3
   },
   "file_extension": ".py",
   "mimetype": "text/x-python",
   "name": "python",
   "nbconvert_exporter": "python",
   "pygments_lexer": "ipython3",
   "version": "3.9.7"
  }
 },
 "nbformat": 4,
 "nbformat_minor": 5
}
